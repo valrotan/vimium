{
 "cells": [
  {
   "cell_type": "code",
   "execution_count": null,
   "id": "7c1c071e",
   "metadata": {},
   "outputs": [],
   "source": [
    "import json"
   ]
  },
  {
   "cell_type": "code",
   "execution_count": null,
   "id": "d66fb28d",
   "metadata": {},
   "outputs": [],
   "source": [
    "a = json.load(open('filename_of_exported_file.json'))\n",
    "a.keys()"
   ]
  },
  {
   "cell_type": "code",
   "execution_count": null,
   "id": "9141e50a",
   "metadata": {},
   "outputs": [],
   "source": [
    "import base64\n",
    "from PIL import Image, ImageDraw\n",
    "import io\n",
    "\n",
    "# Banana emoji (JPG) as a b64 string.\n",
    "b64_img_str = a['0']['image']\n",
    "\n",
    "# Decode back to the original bytes\n",
    "new_img_str = base64.b64decode(b64_img_str)\n",
    "\n",
    "# Use StringIO to provide an in-memory buffer that we can use\n",
    "# to pass the image string to PIL.\n",
    "sio = io.BytesIO(new_img_str)\n",
    "img = Image.open(sio)\n",
    "img1 = ImageDraw.Draw(img)\n",
    "\n",
    "for x, y, w, h in a['0']['rects']:\n",
    "    x, y, w, h = x * 2, y * 2, w * 2, h * 2\n",
    "    img1.rectangle([(x, y), (x + w, y + h)], outline='green', width=2)\n",
    "\n",
    "# Display the image\n",
    "img.show()"
   ]
  },
  {
   "cell_type": "code",
   "execution_count": null,
   "id": "c3cb2046",
   "metadata": {},
   "outputs": [],
   "source": []
  }
 ],
 "metadata": {
  "kernelspec": {
   "display_name": "Python 3 (ipykernel)",
   "language": "python",
   "name": "python3"
  },
  "language_info": {
   "codemirror_mode": {
    "name": "ipython",
    "version": 3
   },
   "file_extension": ".py",
   "mimetype": "text/x-python",
   "name": "python",
   "nbconvert_exporter": "python",
   "pygments_lexer": "ipython3",
   "version": "3.10.8"
  }
 },
 "nbformat": 4,
 "nbformat_minor": 5
}
